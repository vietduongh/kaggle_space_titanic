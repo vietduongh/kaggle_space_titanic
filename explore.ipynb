{
 "cells": [
  {
   "cell_type": "code",
   "execution_count": 1,
   "id": "d47dada0-2c79-4406-b2eb-5634f07b0b46",
   "metadata": {},
   "outputs": [
    {
     "name": "stdout",
     "output_type": "stream",
     "text": [
      "Requirement already satisfied: kaggle in /Users/Viet/opt/anaconda3/lib/python3.8/site-packages (1.6.17)\n",
      "Requirement already satisfied: urllib3 in /Users/Viet/opt/anaconda3/lib/python3.8/site-packages (from kaggle) (1.26.4)\n",
      "Requirement already satisfied: python-slugify in /Users/Viet/opt/anaconda3/lib/python3.8/site-packages (from kaggle) (8.0.4)\n",
      "Requirement already satisfied: python-dateutil in /Users/Viet/opt/anaconda3/lib/python3.8/site-packages (from kaggle) (2.8.1)\n",
      "Requirement already satisfied: certifi>=2023.7.22 in /Users/Viet/opt/anaconda3/lib/python3.8/site-packages (from kaggle) (2024.7.4)\n",
      "Requirement already satisfied: requests in /Users/Viet/opt/anaconda3/lib/python3.8/site-packages (from kaggle) (2.25.1)\n",
      "Requirement already satisfied: bleach in /Users/Viet/opt/anaconda3/lib/python3.8/site-packages (from kaggle) (3.3.0)\n",
      "Requirement already satisfied: tqdm in /Users/Viet/opt/anaconda3/lib/python3.8/site-packages (from kaggle) (4.59.0)\n",
      "Requirement already satisfied: six>=1.10 in /Users/Viet/opt/anaconda3/lib/python3.8/site-packages (from kaggle) (1.15.0)\n",
      "Requirement already satisfied: packaging in /Users/Viet/opt/anaconda3/lib/python3.8/site-packages (from bleach->kaggle) (20.9)\n",
      "Requirement already satisfied: webencodings in /Users/Viet/opt/anaconda3/lib/python3.8/site-packages (from bleach->kaggle) (0.5.1)\n",
      "Requirement already satisfied: pyparsing>=2.0.2 in /Users/Viet/opt/anaconda3/lib/python3.8/site-packages (from packaging->bleach->kaggle) (2.4.7)\n",
      "Requirement already satisfied: text-unidecode>=1.3 in /Users/Viet/opt/anaconda3/lib/python3.8/site-packages (from python-slugify->kaggle) (1.3)\n",
      "Requirement already satisfied: chardet<5,>=3.0.2 in /Users/Viet/opt/anaconda3/lib/python3.8/site-packages (from requests->kaggle) (4.0.0)\n",
      "Requirement already satisfied: idna<3,>=2.5 in /Users/Viet/opt/anaconda3/lib/python3.8/site-packages (from requests->kaggle) (2.10)\n",
      "Note: you may need to restart the kernel to use updated packages.\n"
     ]
    }
   ],
   "source": [
    "pip install kaggle"
   ]
  },
  {
   "cell_type": "code",
   "execution_count": 2,
   "id": "3d9ffd11-ab42-4129-8fda-d56cf07e677f",
   "metadata": {},
   "outputs": [
    {
     "name": "stdout",
     "output_type": "stream",
     "text": [
      "Collecting opendatasets\n",
      "  Downloading opendatasets-0.1.22-py3-none-any.whl (15 kB)\n",
      "Requirement already satisfied: kaggle in /Users/Viet/opt/anaconda3/lib/python3.8/site-packages (from opendatasets) (1.6.17)\n",
      "Requirement already satisfied: click in /Users/Viet/opt/anaconda3/lib/python3.8/site-packages (from opendatasets) (7.1.2)\n",
      "Requirement already satisfied: tqdm in /Users/Viet/opt/anaconda3/lib/python3.8/site-packages (from opendatasets) (4.59.0)\n",
      "Requirement already satisfied: python-slugify in /Users/Viet/opt/anaconda3/lib/python3.8/site-packages (from kaggle->opendatasets) (8.0.4)\n",
      "Requirement already satisfied: bleach in /Users/Viet/opt/anaconda3/lib/python3.8/site-packages (from kaggle->opendatasets) (3.3.0)\n",
      "Requirement already satisfied: urllib3 in /Users/Viet/opt/anaconda3/lib/python3.8/site-packages (from kaggle->opendatasets) (1.26.4)\n",
      "Requirement already satisfied: certifi>=2023.7.22 in /Users/Viet/opt/anaconda3/lib/python3.8/site-packages (from kaggle->opendatasets) (2024.7.4)\n",
      "Requirement already satisfied: python-dateutil in /Users/Viet/opt/anaconda3/lib/python3.8/site-packages (from kaggle->opendatasets) (2.8.1)\n",
      "Requirement already satisfied: requests in /Users/Viet/opt/anaconda3/lib/python3.8/site-packages (from kaggle->opendatasets) (2.25.1)\n",
      "Requirement already satisfied: six>=1.10 in /Users/Viet/opt/anaconda3/lib/python3.8/site-packages (from kaggle->opendatasets) (1.15.0)\n",
      "Requirement already satisfied: webencodings in /Users/Viet/opt/anaconda3/lib/python3.8/site-packages (from bleach->kaggle->opendatasets) (0.5.1)\n",
      "Requirement already satisfied: packaging in /Users/Viet/opt/anaconda3/lib/python3.8/site-packages (from bleach->kaggle->opendatasets) (20.9)\n",
      "Requirement already satisfied: pyparsing>=2.0.2 in /Users/Viet/opt/anaconda3/lib/python3.8/site-packages (from packaging->bleach->kaggle->opendatasets) (2.4.7)\n",
      "Requirement already satisfied: text-unidecode>=1.3 in /Users/Viet/opt/anaconda3/lib/python3.8/site-packages (from python-slugify->kaggle->opendatasets) (1.3)\n",
      "Requirement already satisfied: chardet<5,>=3.0.2 in /Users/Viet/opt/anaconda3/lib/python3.8/site-packages (from requests->kaggle->opendatasets) (4.0.0)\n",
      "Requirement already satisfied: idna<3,>=2.5 in /Users/Viet/opt/anaconda3/lib/python3.8/site-packages (from requests->kaggle->opendatasets) (2.10)\n",
      "Installing collected packages: opendatasets\n",
      "Successfully installed opendatasets-0.1.22\n",
      "Note: you may need to restart the kernel to use updated packages.\n"
     ]
    }
   ],
   "source": [
    "pip install opendatasets"
   ]
  },
  {
   "cell_type": "code",
   "execution_count": 3,
   "id": "f66f59a0-b868-49d9-94d0-190bd3e269cb",
   "metadata": {},
   "outputs": [
    {
     "name": "stdout",
     "output_type": "stream",
     "text": [
      "Please provide your Kaggle credentials to download this dataset. Learn more: http://bit.ly/kaggle-creds\n",
      "Your Kaggle username: "
     ]
    },
    {
     "name": "stdin",
     "output_type": "stream",
     "text": [
      " vietduongh\n"
     ]
    },
    {
     "name": "stdout",
     "output_type": "stream",
     "text": [
      "Your Kaggle Key: "
     ]
    },
    {
     "name": "stdin",
     "output_type": "stream",
     "text": [
      " ································\n"
     ]
    },
    {
     "name": "stdout",
     "output_type": "stream",
     "text": [
      "Dataset URL: https://www.kaggle.com/datasets/muratkokludataset/acoustic-extinguisher-fire-dataset\n"
     ]
    },
    {
     "name": "stderr",
     "output_type": "stream",
     "text": [
      "  0%|          | 0.00/621k [00:00<?, ?B/s]"
     ]
    },
    {
     "name": "stdout",
     "output_type": "stream",
     "text": [
      "Downloading acoustic-extinguisher-fire-dataset.zip to ./acoustic-extinguisher-fire-dataset\n"
     ]
    },
    {
     "name": "stderr",
     "output_type": "stream",
     "text": [
      "100%|██████████| 621k/621k [00:00<00:00, 801kB/s]"
     ]
    },
    {
     "name": "stdout",
     "output_type": "stream",
     "text": [
      "\n"
     ]
    },
    {
     "name": "stderr",
     "output_type": "stream",
     "text": [
      "\n"
     ]
    }
   ],
   "source": [
    "import opendatasets as od \n",
    "import pandas \n",
    "  \n",
    "od.download( \n",
    "    \"https://www.kaggle.com/datasets/muratkokludataset/acoustic-extinguisher-fire-dataset\") "
   ]
  },
  {
   "cell_type": "code",
   "execution_count": 4,
   "id": "49ac6b63-7c6c-4d61-98be-46fee0f87ba9",
   "metadata": {},
   "outputs": [
    {
     "ename": "SyntaxError",
     "evalue": "invalid syntax (<ipython-input-4-9e7553797134>, line 1)",
     "output_type": "error",
     "traceback": [
      "\u001b[0;36m  File \u001b[0;32m\"<ipython-input-4-9e7553797134>\"\u001b[0;36m, line \u001b[0;32m1\u001b[0m\n\u001b[0;31m    kaggle competitions download -c spaceship-titanic\u001b[0m\n\u001b[0m           ^\u001b[0m\n\u001b[0;31mSyntaxError\u001b[0m\u001b[0;31m:\u001b[0m invalid syntax\n"
     ]
    }
   ],
   "source": [
    "kaggle competitions download -c spaceship-titanic"
   ]
  },
  {
   "cell_type": "code",
   "execution_count": 5,
   "id": "9612987a-8ac2-4617-ac5d-4ee6778b8be8",
   "metadata": {},
   "outputs": [
    {
     "name": "stdout",
     "output_type": "stream",
     "text": [
      "Downloading spaceship-titanic.zip to /Users/Viet/Documents/Kaggle/Space_Titanic\n",
      "100%|█████████████████████████████████████████| 299k/299k [00:00<00:00, 480kB/s]\n",
      "100%|█████████████████████████████████████████| 299k/299k [00:00<00:00, 479kB/s]\n"
     ]
    }
   ],
   "source": [
    "!kaggle competitions download -c spaceship-titanic"
   ]
  },
  {
   "cell_type": "code",
   "execution_count": 6,
   "id": "45a006ef-063d-4ab6-9487-ea52c57341ae",
   "metadata": {},
   "outputs": [
    {
     "name": "stdout",
     "output_type": "stream",
     "text": [
      "Archive:  spaceship-titanic.zip\n",
      "  inflating: sample_submission.csv   \n",
      "  inflating: test.csv                \n",
      "  inflating: train.csv               \n"
     ]
    }
   ],
   "source": [
    "!unzip spaceship-titanic.zip"
   ]
  },
  {
   "cell_type": "code",
   "execution_count": null,
   "id": "1b8a7cb2-78a1-42ad-9e5f-3c85861be98b",
   "metadata": {},
   "outputs": [],
   "source": []
  }
 ],
 "metadata": {
  "kernelspec": {
   "display_name": "Python 3",
   "language": "python",
   "name": "python3"
  },
  "language_info": {
   "codemirror_mode": {
    "name": "ipython",
    "version": 3
   },
   "file_extension": ".py",
   "mimetype": "text/x-python",
   "name": "python",
   "nbconvert_exporter": "python",
   "pygments_lexer": "ipython3",
   "version": "3.8.8"
  }
 },
 "nbformat": 4,
 "nbformat_minor": 5
}
